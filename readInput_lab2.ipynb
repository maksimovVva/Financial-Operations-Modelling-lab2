{
 "cells": [
  {
   "cell_type": "code",
   "execution_count": 1,
   "metadata": {
    "collapsed": true
   },
   "outputs": [],
   "source": [
    "import numpy as np\n",
    "import pandas as pd\n",
    "import copy"
   ]
  },
  {
   "cell_type": "code",
   "execution_count": 2,
   "metadata": {
    "collapsed": true
   },
   "outputs": [],
   "source": [
    "namesNew = [\"AC.PA\", \"AIR.PA\", \"AI.PA\", \"CS.PA\", \"BNP.PA\", \"CAP.PA\", \"CA.PA\", \"ACA.PA\", \"BN.PA\",\n",
    "            \"KER.PA\", \"LI.PA\", \"LR.PA\", \"OR.PA\", \"MC.PA\", \"ML.PA\", \"ORA.PA\", \"RI.PA\", \"UG.PA\", \"PUB.PA\", \"RNO.PA\", \n",
    "            \"SAF.PA\", \"SAN.PA\", \"SU.PA\", \"GLE.PA\", \"SW.PA\", \"SOLB.BR\", \"FP.PA\", \"VIE.PA\", \"DG.PA\", \"VIV.PA\",\n",
    "            \"CS.PA\", \"GLE.PA\", \"ORA.PA\", \"ACA.PA\", \"FP.PA\", \"EDF.PA\", \"KN.PA\", \"VIV.PA\", \"UG.PA\",\n",
    "            \"ENGI.PA\", \"STM.PA\", \"FTI.PA\", \"CA.PA\", \"BOL.PA\", \"BNP.PA\", \"SAN.PA\", \"DG.PA\",\n",
    "            \"SFR.PA\", \"SGO.PA\", \"AIR.PA\", \"RNO.PA\", \"BN.PA\", \"SU.PA\", \"VIE.PA\", \"EN.PA\", \"EI.PA\",\n",
    "            \"FR.PA\", \"AI.PA\", \"LI.PA\", \"SAF.PA\", \"PUB.PA\", \"AC.PA\", \"LR.PA\", \"MC.PA\", \"RI.PA\", \"CAP.PA\",\n",
    "            \"OR.PA\", \"ML.PA\", \"CNP.PA\", \"SW.PA\", \"HO.PA\", \"DSY.PA\",\n",
    "            \"KER.PA\", \"ATO.PA\", \"ILD.PA\", \"GNE.PA\", \"ADP.PA\", \"RMS.PA\", \"GFC.PA\", \"HSB.PA\", \"CDI.PA\",\n",
    "            \"SLB.PA\", \"IAM.PA\", \"DGE.PA\", \"VALE3.PA\", \"LLY.PA\", \"PGP.PA\",\n",
    "            \"CATR.PA\"]"
   ]
  },
  {
   "cell_type": "code",
   "execution_count": 5,
   "metadata": {
    "collapsed": false
   },
   "outputs": [],
   "source": [
    "names = pd.Series(namesNew)\n",
    "names.drop_duplicates(inplace=True)\n",
    "names = names.tolist()"
   ]
  },
  {
   "cell_type": "code",
   "execution_count": 9,
   "metadata": {
    "collapsed": false
   },
   "outputs": [],
   "source": [
    "from pandas_datareader import data"
   ]
  },
  {
   "cell_type": "code",
   "execution_count": 10,
   "metadata": {
    "collapsed": true
   },
   "outputs": [],
   "source": [
    "data_source = 'yahoo'\n",
    "start_date = '2010-01-02'\n",
    "end_date = '2013-12-31'"
   ]
  },
  {
   "cell_type": "code",
   "execution_count": 11,
   "metadata": {
    "collapsed": false
   },
   "outputs": [],
   "source": [
    "panel_data = data.DataReader(names, data_source, start_date, end_date)"
   ]
  },
  {
   "cell_type": "code",
   "execution_count": 12,
   "metadata": {
    "collapsed": true
   },
   "outputs": [],
   "source": [
    "a = copy.copy(panel_data)"
   ]
  },
  {
   "cell_type": "code",
   "execution_count": 13,
   "metadata": {
    "collapsed": true
   },
   "outputs": [],
   "source": [
    "adj_close = a.loc['Adj Close']"
   ]
  },
  {
   "cell_type": "code",
   "execution_count": 14,
   "metadata": {
    "collapsed": false
   },
   "outputs": [
    {
     "data": {
      "text/plain": [
       "(1025, 59)"
      ]
     },
     "execution_count": 14,
     "metadata": {},
     "output_type": "execute_result"
    }
   ],
   "source": [
    "adj_close.shape"
   ]
  },
  {
   "cell_type": "code",
   "execution_count": 15,
   "metadata": {
    "collapsed": false
   },
   "outputs": [],
   "source": [
    "adj_close.dropna(axis=0,thresh=2, inplace=True)"
   ]
  },
  {
   "cell_type": "markdown",
   "metadata": {},
   "source": [
    "Удалил строки где только одна компания в этот день имела торги (они всё ломают)."
   ]
  },
  {
   "cell_type": "code",
   "execution_count": 16,
   "metadata": {
    "collapsed": false
   },
   "outputs": [
    {
     "data": {
      "text/plain": [
       "(1023, 59)"
      ]
     },
     "execution_count": 16,
     "metadata": {},
     "output_type": "execute_result"
    }
   ],
   "source": [
    "adj_close.shape"
   ]
  },
  {
   "cell_type": "code",
   "execution_count": 17,
   "metadata": {
    "collapsed": false,
    "scrolled": true
   },
   "outputs": [
    {
     "data": {
      "text/plain": [
       "(1023, 51)"
      ]
     },
     "execution_count": 17,
     "metadata": {},
     "output_type": "execute_result"
    }
   ],
   "source": [
    "adj_close.dropna(axis=1,thresh=1006).shape"
   ]
  },
  {
   "cell_type": "code",
   "execution_count": 18,
   "metadata": {
    "collapsed": true
   },
   "outputs": [],
   "source": [
    "adj_close.dropna(axis=1,thresh=1006, inplace=True)"
   ]
  },
  {
   "cell_type": "markdown",
   "metadata": {},
   "source": [
    "Удалил компании где есть больше 16 пропусков"
   ]
  },
  {
   "cell_type": "code",
   "execution_count": 19,
   "metadata": {
    "collapsed": false
   },
   "outputs": [],
   "source": [
    "adj_close.drop('BOL.PA', axis=1, inplace=True)"
   ]
  },
  {
   "cell_type": "code",
   "execution_count": 20,
   "metadata": {
    "collapsed": true
   },
   "outputs": [],
   "source": [
    "adj_close.to_csv(path_or_buf='adj_close.csv', sep=';')"
   ]
  },
  {
   "cell_type": "code",
   "execution_count": 21,
   "metadata": {
    "collapsed": false
   },
   "outputs": [],
   "source": [
    "from pandas import read_csv\n",
    "datasetPrice = read_csv('adj_close.csv',';', index_col=['Date'], parse_dates=['Date'], dayfirst=True)"
   ]
  },
  {
   "cell_type": "code",
   "execution_count": 22,
   "metadata": {
    "collapsed": true
   },
   "outputs": [],
   "source": [
    "def log_profitability(dataS):\n",
    "    dataSNew = copy.copy(dataS)\n",
    "    for column in range(0,dataS.shape[1]):\n",
    "        for index in range(0,(dataS.shape[0])-1):\n",
    "            dataSNew.iloc[index][column] = np.log(dataS.iloc[index+1][column]/dataS.iloc[index][column])\n",
    "    dataSNew.drop(dataSNew.tail(1).index,inplace=True)\n",
    "    return dataSNew"
   ]
  },
  {
   "cell_type": "code",
   "execution_count": 23,
   "metadata": {
    "collapsed": false
   },
   "outputs": [
    {
     "data": {
      "text/html": [
       "<div>\n",
       "<table border=\"1\" class=\"dataframe\">\n",
       "  <thead>\n",
       "    <tr style=\"text-align: right;\">\n",
       "      <th></th>\n",
       "      <th>AC.PA</th>\n",
       "      <th>ACA.PA</th>\n",
       "      <th>ADP.PA</th>\n",
       "      <th>AI.PA</th>\n",
       "      <th>AIR.PA</th>\n",
       "      <th>ATO.PA</th>\n",
       "      <th>BN.PA</th>\n",
       "      <th>BNP.PA</th>\n",
       "      <th>CA.PA</th>\n",
       "      <th>CAP.PA</th>\n",
       "      <th>...</th>\n",
       "      <th>SAN.PA</th>\n",
       "      <th>SGO.PA</th>\n",
       "      <th>SLB.PA</th>\n",
       "      <th>SOLB.BR</th>\n",
       "      <th>STM.PA</th>\n",
       "      <th>SU.PA</th>\n",
       "      <th>SW.PA</th>\n",
       "      <th>UG.PA</th>\n",
       "      <th>VIE.PA</th>\n",
       "      <th>VIV.PA</th>\n",
       "    </tr>\n",
       "    <tr>\n",
       "      <th>Date</th>\n",
       "      <th></th>\n",
       "      <th></th>\n",
       "      <th></th>\n",
       "      <th></th>\n",
       "      <th></th>\n",
       "      <th></th>\n",
       "      <th></th>\n",
       "      <th></th>\n",
       "      <th></th>\n",
       "      <th></th>\n",
       "      <th></th>\n",
       "      <th></th>\n",
       "      <th></th>\n",
       "      <th></th>\n",
       "      <th></th>\n",
       "      <th></th>\n",
       "      <th></th>\n",
       "      <th></th>\n",
       "      <th></th>\n",
       "      <th></th>\n",
       "      <th></th>\n",
       "    </tr>\n",
       "  </thead>\n",
       "  <tbody>\n",
       "    <tr>\n",
       "      <th>2010-01-04</th>\n",
       "      <td>-0.006189</td>\n",
       "      <td>0.015090</td>\n",
       "      <td>0.001924</td>\n",
       "      <td>-0.020204</td>\n",
       "      <td>-0.003222</td>\n",
       "      <td>0.020203</td>\n",
       "      <td>-0.008714</td>\n",
       "      <td>-0.001924</td>\n",
       "      <td>0.023401</td>\n",
       "      <td>0.012367</td>\n",
       "      <td>...</td>\n",
       "      <td>-0.013304</td>\n",
       "      <td>-0.004742</td>\n",
       "      <td>0.007093</td>\n",
       "      <td>-0.004751</td>\n",
       "      <td>-0.000155</td>\n",
       "      <td>-0.004863</td>\n",
       "      <td>0.000991</td>\n",
       "      <td>0.008729</td>\n",
       "      <td>0.007679</td>\n",
       "      <td>-0.000237</td>\n",
       "    </tr>\n",
       "    <tr>\n",
       "      <th>2010-01-05</th>\n",
       "      <td>-0.011974</td>\n",
       "      <td>0.017511</td>\n",
       "      <td>-0.000874</td>\n",
       "      <td>-0.006178</td>\n",
       "      <td>0.008924</td>\n",
       "      <td>0.017366</td>\n",
       "      <td>-0.000117</td>\n",
       "      <td>0.001574</td>\n",
       "      <td>-0.007354</td>\n",
       "      <td>0.019649</td>\n",
       "      <td>...</td>\n",
       "      <td>-0.005730</td>\n",
       "      <td>-0.004249</td>\n",
       "      <td>0.001926</td>\n",
       "      <td>0.000000</td>\n",
       "      <td>0.011669</td>\n",
       "      <td>-0.010290</td>\n",
       "      <td>0.039083</td>\n",
       "      <td>0.061908</td>\n",
       "      <td>0.014556</td>\n",
       "      <td>-0.010804</td>\n",
       "    </tr>\n",
       "    <tr>\n",
       "      <th>2010-01-06</th>\n",
       "      <td>-0.010263</td>\n",
       "      <td>0.000377</td>\n",
       "      <td>-0.000175</td>\n",
       "      <td>-0.001215</td>\n",
       "      <td>0.009901</td>\n",
       "      <td>-0.007778</td>\n",
       "      <td>-0.002103</td>\n",
       "      <td>0.017325</td>\n",
       "      <td>-0.011352</td>\n",
       "      <td>-0.010510</td>\n",
       "      <td>...</td>\n",
       "      <td>0.005016</td>\n",
       "      <td>-0.002843</td>\n",
       "      <td>0.031354</td>\n",
       "      <td>0.015618</td>\n",
       "      <td>-0.012905</td>\n",
       "      <td>-0.001972</td>\n",
       "      <td>-0.028862</td>\n",
       "      <td>0.014522</td>\n",
       "      <td>0.011659</td>\n",
       "      <td>-0.003074</td>\n",
       "    </tr>\n",
       "    <tr>\n",
       "      <th>2010-01-07</th>\n",
       "      <td>0.000660</td>\n",
       "      <td>0.016090</td>\n",
       "      <td>0.021800</td>\n",
       "      <td>0.003157</td>\n",
       "      <td>0.009804</td>\n",
       "      <td>-0.015592</td>\n",
       "      <td>-0.002342</td>\n",
       "      <td>0.023427</td>\n",
       "      <td>0.009759</td>\n",
       "      <td>0.004246</td>\n",
       "      <td>...</td>\n",
       "      <td>-0.005555</td>\n",
       "      <td>0.006706</td>\n",
       "      <td>0.010305</td>\n",
       "      <td>-0.014032</td>\n",
       "      <td>-0.003718</td>\n",
       "      <td>-0.009048</td>\n",
       "      <td>0.003058</td>\n",
       "      <td>-0.007519</td>\n",
       "      <td>0.038377</td>\n",
       "      <td>-0.011912</td>\n",
       "    </tr>\n",
       "    <tr>\n",
       "      <th>2010-01-08</th>\n",
       "      <td>-0.006364</td>\n",
       "      <td>-0.006330</td>\n",
       "      <td>-0.006180</td>\n",
       "      <td>-0.006204</td>\n",
       "      <td>0.009018</td>\n",
       "      <td>0.012261</td>\n",
       "      <td>-0.001642</td>\n",
       "      <td>-0.014194</td>\n",
       "      <td>-0.015042</td>\n",
       "      <td>-0.002048</td>\n",
       "      <td>...</td>\n",
       "      <td>0.007697</td>\n",
       "      <td>-0.009298</td>\n",
       "      <td>-0.013210</td>\n",
       "      <td>-0.019166</td>\n",
       "      <td>-0.014697</td>\n",
       "      <td>0.004720</td>\n",
       "      <td>-0.001222</td>\n",
       "      <td>0.005270</td>\n",
       "      <td>0.008134</td>\n",
       "      <td>0.001915</td>\n",
       "    </tr>\n",
       "  </tbody>\n",
       "</table>\n",
       "<p>5 rows × 50 columns</p>\n",
       "</div>"
      ],
      "text/plain": [
       "               AC.PA    ACA.PA    ADP.PA     AI.PA    AIR.PA    ATO.PA  \\\n",
       "Date                                                                     \n",
       "2010-01-04 -0.006189  0.015090  0.001924 -0.020204 -0.003222  0.020203   \n",
       "2010-01-05 -0.011974  0.017511 -0.000874 -0.006178  0.008924  0.017366   \n",
       "2010-01-06 -0.010263  0.000377 -0.000175 -0.001215  0.009901 -0.007778   \n",
       "2010-01-07  0.000660  0.016090  0.021800  0.003157  0.009804 -0.015592   \n",
       "2010-01-08 -0.006364 -0.006330 -0.006180 -0.006204  0.009018  0.012261   \n",
       "\n",
       "               BN.PA    BNP.PA     CA.PA    CAP.PA    ...       SAN.PA  \\\n",
       "Date                                                  ...                \n",
       "2010-01-04 -0.008714 -0.001924  0.023401  0.012367    ...    -0.013304   \n",
       "2010-01-05 -0.000117  0.001574 -0.007354  0.019649    ...    -0.005730   \n",
       "2010-01-06 -0.002103  0.017325 -0.011352 -0.010510    ...     0.005016   \n",
       "2010-01-07 -0.002342  0.023427  0.009759  0.004246    ...    -0.005555   \n",
       "2010-01-08 -0.001642 -0.014194 -0.015042 -0.002048    ...     0.007697   \n",
       "\n",
       "              SGO.PA    SLB.PA   SOLB.BR    STM.PA     SU.PA     SW.PA  \\\n",
       "Date                                                                     \n",
       "2010-01-04 -0.004742  0.007093 -0.004751 -0.000155 -0.004863  0.000991   \n",
       "2010-01-05 -0.004249  0.001926  0.000000  0.011669 -0.010290  0.039083   \n",
       "2010-01-06 -0.002843  0.031354  0.015618 -0.012905 -0.001972 -0.028862   \n",
       "2010-01-07  0.006706  0.010305 -0.014032 -0.003718 -0.009048  0.003058   \n",
       "2010-01-08 -0.009298 -0.013210 -0.019166 -0.014697  0.004720 -0.001222   \n",
       "\n",
       "               UG.PA    VIE.PA    VIV.PA  \n",
       "Date                                      \n",
       "2010-01-04  0.008729  0.007679 -0.000237  \n",
       "2010-01-05  0.061908  0.014556 -0.010804  \n",
       "2010-01-06  0.014522  0.011659 -0.003074  \n",
       "2010-01-07 -0.007519  0.038377 -0.011912  \n",
       "2010-01-08  0.005270  0.008134  0.001915  \n",
       "\n",
       "[5 rows x 50 columns]"
      ]
     },
     "execution_count": 23,
     "metadata": {},
     "output_type": "execute_result"
    }
   ],
   "source": [
    "dataProb = log_profitability(datasetPrice)\n",
    "dataProb.head()"
   ]
  },
  {
   "cell_type": "code",
   "execution_count": 26,
   "metadata": {
    "collapsed": false
   },
   "outputs": [],
   "source": [
    "data1 = dataProb.iloc[:][:513]"
   ]
  },
  {
   "cell_type": "code",
   "execution_count": 27,
   "metadata": {
    "collapsed": false
   },
   "outputs": [],
   "source": [
    "data2 = dataProb.iloc[:][513:]"
   ]
  },
  {
   "cell_type": "markdown",
   "metadata": {},
   "source": [
    "$Да$ быдлокод, но работает."
   ]
  },
  {
   "cell_type": "code",
   "execution_count": 28,
   "metadata": {
    "collapsed": true
   },
   "outputs": [],
   "source": [
    "data1.to_csv(path_or_buf='dataBefore.csv', sep=';')\n",
    "data2.to_csv(path_or_buf='dataAfter.csv', sep=';')"
   ]
  },
  {
   "cell_type": "code",
   "execution_count": 29,
   "metadata": {
    "collapsed": true
   },
   "outputs": [],
   "source": [
    "dataProb.to_csv(path_or_buf='dataProbability.csv', sep=';')"
   ]
  }
 ],
 "metadata": {
  "anaconda-cloud": {},
  "kernelspec": {
   "display_name": "Python [conda root]",
   "language": "python",
   "name": "conda-root-py"
  },
  "language_info": {
   "codemirror_mode": {
    "name": "ipython",
    "version": 3
   },
   "file_extension": ".py",
   "mimetype": "text/x-python",
   "name": "python",
   "nbconvert_exporter": "python",
   "pygments_lexer": "ipython3",
   "version": "3.5.2"
  }
 },
 "nbformat": 4,
 "nbformat_minor": 1
}
